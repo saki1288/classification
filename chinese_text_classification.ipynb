{
 "cells": [
  {
   "cell_type": "markdown",
   "metadata": {},
   "source": [
    " # 中文文本分类项目\n",
    "\n",
    "\n",
    "\n",
    " 本项目使用scikit-learn和jieba分词对THUCNews数据集进行中文文本分类，并通过网格搜索进行参数优化。"
   ]
  },
  {
   "cell_type": "markdown",
   "metadata": {},
   "source": [
    " ## 1. 导入必要的库"
   ]
  },
  {
   "cell_type": "code",
   "execution_count": 1,
   "metadata": {},
   "outputs": [],
   "source": [
    "import pandas as pd\n",
    "import numpy as np\n",
    "import jieba\n",
    "from sklearn.feature_extraction.text import TfidfVectorizer\n",
    "from sklearn.model_selection import train_test_split, GridSearchCV\n",
    "from sklearn.naive_bayes import MultinomialNB\n",
    "from sklearn.metrics import classification_report, confusion_matrix, make_scorer, f1_score\n",
    "import matplotlib.pyplot as plt\n",
    "import seaborn as sns\n",
    "from sklearn.metrics import precision_recall_fscore_support\n",
    "import time\n",
    "\n",
    "# 设置中文显示\n",
    "plt.rcParams['font.sans-serif'] = ['SimHei']\n",
    "plt.rcParams['axes.unicode_minus'] = False\n"
   ]
  },
  {
   "cell_type": "markdown",
   "metadata": {},
   "source": [
    " ## 2. 定义数据加载和预处理函数"
   ]
  },
  {
   "cell_type": "code",
   "execution_count": 2,
   "metadata": {},
   "outputs": [],
   "source": [
    "def load_data(file_path):\n",
    "    \"\"\"加载数据\"\"\"\n",
    "    data = []      # 存储文本内容\n",
    "    labels = []    # 存储标签\n",
    "    with open(file_path, 'r', encoding='utf-8') as f:\n",
    "        for line in f:\n",
    "            label, text = line.strip().split('\\t')\n",
    "            data.append(text)\n",
    "            labels.append(label)\n",
    "    return data, labels\n",
    "\n",
    "def cut_words(text):\n",
    "    \"\"\"分词函数\"\"\"\n",
    "    return ' '.join(jieba.cut(text))\n"
   ]
  },
  {
   "cell_type": "markdown",
   "metadata": {},
   "source": [
    " ## 3. 加载数据"
   ]
  },
  {
   "cell_type": "code",
   "execution_count": 3,
   "metadata": {},
   "outputs": [
    {
     "name": "stdout",
     "output_type": "stream",
     "text": [
      "正在加载数据...\n",
      "数据集大小: 30000\n"
     ]
    }
   ],
   "source": [
    "print(\"正在加载数据...\")\n",
    "texts, labels = load_data('filtered_cnews.train.txt')\n",
    "print(f'数据集大小: {len(texts)}')\n"
   ]
  },
  {
   "cell_type": "markdown",
   "metadata": {},
   "source": [
    " ## 4. 文本分词"
   ]
  },
  {
   "cell_type": "code",
   "execution_count": 4,
   "metadata": {},
   "outputs": [
    {
     "name": "stderr",
     "output_type": "stream",
     "text": [
      "Building prefix dict from the default dictionary ...\n",
      "Loading model from cache C:\\Users\\ASUS\\AppData\\Local\\Temp\\jieba.cache\n"
     ]
    },
    {
     "name": "stdout",
     "output_type": "stream",
     "text": [
      "正在进行分词...\n"
     ]
    },
    {
     "name": "stderr",
     "output_type": "stream",
     "text": [
      "Loading model cost 0.804 seconds.\n",
      "Prefix dict has been built successfully.\n"
     ]
    },
    {
     "name": "stdout",
     "output_type": "stream",
     "text": [
      "分词示例：\n",
      "马晓旭 意外 受伤 让 国奥 警惕   无奈 大雨 格外 青睐 殷家 军 记者 傅亚雨 沈阳 报道   来到 沈阳 ， 国奥队 依然 没有 摆脱 雨水 的 困扰 。 7 月 31 日 下午 6 点 ， 国奥队 的 日常 训练 再度 受到 大雨 的 干扰 ， 无奈 之下 队员 们 只 慢跑 了 25 分钟 就 草草收场 。 31 日 上午 10 点 ， 国奥队 在 奥体中心 外场 训练 的 时候 ， 天 就是 阴沉沉 的 ， 气象预报 显示 当天 下午 沈阳 就 有 大雨 ， 但 幸好 队伍 上午 的 训练 并 没有 受到 任何 干扰 。 下午 6 点 ， 当 球队 抵达 训练场 时 ， 大雨 已经 下 了 几个 小时 ， 而且 丝毫 没有 停下来 的 意思 。 抱 着 试一试 的 态度 ， 球队 开始 了 当天 下午 的 例行 训练 ， 25 分钟 过去 了 ， 天气 没有 任何 转好 的 迹象 ， 为了 保护 球员 们 ， 国奥队 决定 中止 当天 的 训练 ， 全队 立即 返回 酒店 。 在 雨 中 训练 对 足球队 来说 并 不是 什么 稀罕 事 ， 但 在 奥运会 即将 开始 之前 ， 全队 变得 “ 娇贵 ” 了 。 在 沈阳 最后 一周 的 训练 ， 国奥队 首先 要 保证 现有 的 球员 不再 出现意外 的 伤病 情况 以免 影响 正式 比赛 ， 因此 这一 阶段 控制 训练 受伤 、 控制 感冒 等 疾病 的 出现 被 队伍 放在 了 相当 重要 的 位置 。 而 抵达 沈阳 之后 ， 中 后卫 冯萧霆 就 一直 没有 训练 ， 冯萧霆 是 7 月 27 日 在 长春 患上 了 感冒 ， 因此 也 没有 参加 29 日 跟 塞尔维亚 的 热身赛 。 队伍 介绍 说 ， 冯萧霆 并 没有 出现 发烧 症状 ， 但 为了 安全 起 见 ， 这 两天 还是 让 他 静养 休息 ， 等 感冒 彻底 好 了 之后 再 恢复 训练 。 由于 有 了 冯萧霆 这个 例子 ， 因此 国奥队 对雨中 训练 就 显得 特别 谨慎 ， 主要 是 担心 球员 们 受凉 而 引发 感冒 ， 造成 非战斗 减员 。 而 女足 队员 马晓旭 在 热身赛 中 受伤 导致 无缘 奥运 的 前科 ， 也 让 在 沈阳 的 国奥队 现在 格外 警惕 ， “ 训练 中 不断 嘱咐 队员 们 要 注意 动作 ， 我们 可 不能 再出 这样 的 事情 了 。 ” 一位 工作人员 表示 。 从 长春 到 沈阳 ， 雨水 一路 伴随 着 国奥队 ， “ 也 邪 了 ， 我们 走 到 哪儿 雨 就 下 到 哪儿 ， 在 长春 几次 训练 都 被 大雨 给 搅和 了 ， 没想到 来 沈阳 又 碰到 这种 事情 。 ” 一位 国奥 球员 也 对 雨水 的 “ 青睐 ” 有些 不解 。\n"
     ]
    }
   ],
   "source": [
    "print(\"正在进行分词...\")\n",
    "texts_cut = [cut_words(text) for text in texts]\n",
    "print('分词示例：')\n",
    "print(texts_cut[0])\n"
   ]
  },
  {
   "cell_type": "markdown",
   "metadata": {},
   "source": [
    " ## 5. 划分训练集和测试集"
   ]
  },
  {
   "cell_type": "code",
   "execution_count": 5,
   "metadata": {},
   "outputs": [
    {
     "name": "stdout",
     "output_type": "stream",
     "text": [
      "正在划分训练集和测试集...\n",
      "训练集大小: 24000\n",
      "测试集大小: 6000\n"
     ]
    }
   ],
   "source": [
    "print(\"正在划分训练集和测试集...\")\n",
    "X_train, X_test, y_train, y_test = train_test_split(\n",
    "    texts_cut, labels, \n",
    "    test_size=0.2,    # 测试集占20%\n",
    "    random_state=42   # 随机种子，保证结果可复现\n",
    ")\n",
    "print(f'训练集大小: {len(X_train)}')\n",
    "print(f'测试集大小: {len(X_test)}')\n"
   ]
  },
  {
   "cell_type": "markdown",
   "metadata": {},
   "source": [
    " ## 6. 特征提取"
   ]
  },
  {
   "cell_type": "code",
   "execution_count": 6,
   "metadata": {},
   "outputs": [
    {
     "name": "stdout",
     "output_type": "stream",
     "text": [
      "正在进行特征提取...\n",
      "特征维度: (24000, 5000)\n"
     ]
    }
   ],
   "source": [
    "print(\"正在进行特征提取...\")\n",
    "tfidf = TfidfVectorizer(max_features=5000)  # 创建TF-IDF转换器，最多5000个特征\n",
    "X_train_tfidf = tfidf.fit_transform(X_train)  # 训练并转换训练集\n",
    "X_test_tfidf = tfidf.transform(X_test)        # 转换测试集\n",
    "print(f'特征维度: {X_train_tfidf.shape}')\n"
   ]
  },
  {
   "cell_type": "markdown",
   "metadata": {},
   "source": [
    " ## 7. 参数优化"
   ]
  },
  {
   "cell_type": "code",
   "execution_count": 7,
   "metadata": {},
   "outputs": [
    {
     "name": "stdout",
     "output_type": "stream",
     "text": [
      "开始参数优化...\n",
      "Fitting 5 folds for each of 10 candidates, totalling 50 fits\n",
      "\n",
      "参数优化完成，耗时: 7.18秒\n",
      "\n",
      "最佳参数:\n",
      "alpha: 0.1\n",
      "fit_prior: True\n",
      "\n",
      "最佳得分: nan\n"
     ]
    },
    {
     "name": "stderr",
     "output_type": "stream",
     "text": [
      "f:\\python\\Lib\\site-packages\\sklearn\\model_selection\\_search.py:1103: UserWarning: One or more of the test scores are non-finite: [nan nan nan nan nan nan nan nan nan nan]\n",
      "  warnings.warn(\n"
     ]
    }
   ],
   "source": [
    "print(\"开始参数优化...\")\n",
    "# 定义参数网格\n",
    "param_grid = {\n",
    "    'alpha': [0.1, 0.5, 1.0, 1.5, 2.0],  # 平滑参数\n",
    "    'fit_prior': [True, False]  # 是否学习类别先验概率\n",
    "}\n",
    "\n",
    "# 创建评分器\n",
    "scorer = make_scorer(f1_score, average='macro')\n",
    "\n",
    "# 创建网格搜索对象\n",
    "grid_search = GridSearchCV(\n",
    "    MultinomialNB(),\n",
    "    param_grid,\n",
    "    cv=5,  # 5折交叉验证\n",
    "    scoring=scorer,\n",
    "    n_jobs=-1,  # 使用所有CPU核心\n",
    "    verbose=1\n",
    ")\n",
    "\n",
    "# 开始网格搜索\n",
    "start_time = time.time()\n",
    "grid_search.fit(X_train_tfidf, y_train)\n",
    "end_time = time.time()\n",
    "\n",
    "print(f\"\\n参数优化完成，耗时: {end_time - start_time:.2f}秒\")\n",
    "print(\"\\n最佳参数:\")\n",
    "for param, value in grid_search.best_params_.items():\n",
    "    print(f\"{param}: {value}\")\n",
    "print(f\"\\n最佳得分: {grid_search.best_score_:.4f}\")\n"
   ]
  },
  {
   "cell_type": "markdown",
   "metadata": {},
   "source": [
    " ## 8. 模型预测"
   ]
  },
  {
   "cell_type": "code",
   "execution_count": 8,
   "metadata": {},
   "outputs": [
    {
     "name": "stdout",
     "output_type": "stream",
     "text": [
      "使用最佳参数进行预测...\n"
     ]
    }
   ],
   "source": [
    "print(\"使用最佳参数进行预测...\")\n",
    "best_model = grid_search.best_estimator_\n",
    "y_pred = best_model.predict(X_test_tfidf)\n"
   ]
  },
  {
   "cell_type": "markdown",
   "metadata": {},
   "source": [
    " ## 9. 模型评估"
   ]
  },
  {
   "cell_type": "code",
   "execution_count": 9,
   "metadata": {},
   "outputs": [
    {
     "name": "stdout",
     "output_type": "stream",
     "text": [
      "计算评估指标...\n",
      "宏平均：\n",
      "Precision: 0.9445\n",
      "Recall: 0.9435\n",
      "F1-score: 0.9437\n",
      "\n",
      "微平均：\n",
      "Precision: 0.9437\n",
      "Recall: 0.9437\n",
      "F1-score: 0.9437\n"
     ]
    }
   ],
   "source": [
    "print(\"计算评估指标...\")\n",
    "# 计算宏平均\n",
    "precision, recall, f1, _ = precision_recall_fscore_support(\n",
    "    y_test, y_pred, \n",
    "    average='macro'  # 使用宏平均\n",
    ")\n",
    "print('宏平均：')\n",
    "print(f'Precision: {precision:.4f}')\n",
    "print(f'Recall: {recall:.4f}')\n",
    "print(f'F1-score: {f1:.4f}')\n",
    "\n",
    "# 计算微平均\n",
    "precision, recall, f1, _ = precision_recall_fscore_support(\n",
    "    y_test, y_pred, \n",
    "    average='micro'  # 使用微平均\n",
    ")\n",
    "print('\\n微平均：')\n",
    "print(f'Precision: {precision:.4f}')\n",
    "print(f'Recall: {recall:.4f}')\n",
    "print(f'F1-score: {f1:.4f}')\n"
   ]
  },
  {
   "cell_type": "markdown",
   "metadata": {},
   "source": [
    " ## 10. 混淆矩阵可视化"
   ]
  },
  {
   "cell_type": "code",
   "execution_count": 10,
   "metadata": {},
   "outputs": [
    {
     "name": "stdout",
     "output_type": "stream",
     "text": [
      "正在绘制混淆矩阵...\n"
     ]
    },
    {
     "data": {
      "image/png": "[encoded data removed]",
      "text/plain": [
       "<Figure size 1000x800 with 2 Axes>"
      ]
     },
     "metadata": {},
     "output_type": "display_data"
    }
   ],
   "source": [
    "print(\"正在绘制混淆矩阵...\")\n",
    "cm = confusion_matrix(y_test, y_pred)  # 计算混淆矩阵\n",
    "plt.figure(figsize=(10, 8))  # 创建图形\n",
    "sns.heatmap(cm, annot=True, fmt='d', cmap='Blues')  # 绘制热力图\n",
    "plt.title('混淆矩阵')\n",
    "plt.xlabel('预测标签')\n",
    "plt.ylabel('真实标签')\n",
    "plt.show()\n"
   ]
  },
  {
   "cell_type": "markdown",
   "metadata": {},
   "source": [
    " ## 11. 详细分类报告"
   ]
  },
  {
   "cell_type": "code",
   "execution_count": 11,
   "metadata": {},
   "outputs": [
    {
     "name": "stdout",
     "output_type": "stream",
     "text": [
      "生成分类报告...\n",
      "              precision    recall  f1-score   support\n",
      "\n",
      "          体育       0.99      0.99      0.99       978\n",
      "          家居       0.96      0.91      0.93      1024\n",
      "          房产       0.92      0.95      0.94      1046\n",
      "          教育       0.92      0.93      0.92       950\n",
      "          科技       0.92      0.96      0.94      1033\n",
      "          财经       0.95      0.91      0.93       969\n",
      "\n",
      "    accuracy                           0.94      6000\n",
      "   macro avg       0.94      0.94      0.94      6000\n",
      "weighted avg       0.94      0.94      0.94      6000\n",
      "\n"
     ]
    }
   ],
   "source": [
    "print(\"生成分类报告...\")\n",
    "print(classification_report(y_test, y_pred))"
   ]
  }
 ],
 "metadata": {
  "kernelspec": {
   "display_name": "Python 3",
   "language": "python",
   "name": "python3"
  },
  "language_info": {
   "codemirror_mode": {
    "name": "ipython",
    "version": 3
   },
   "file_extension": ".py",
   "mimetype": "text/x-python",
   "name": "python",
   "nbconvert_exporter": "python",
   "pygments_lexer": "ipython3",
   "version": "3.11.5"
  }
 },
 "nbformat": 4,
 "nbformat_minor": 2
}
